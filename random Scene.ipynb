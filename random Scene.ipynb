{
 "cells": [
  {
   "cell_type": "code",
   "execution_count": 2,
   "id": "787857b8",
   "metadata": {},
   "outputs": [
    {
     "name": "stderr",
     "output_type": "stream",
     "text": [
      "C:\\Users\\Ganki\\AppData\\Local\\Temp\\ipykernel_29424\\2280655334.py:29: DeprecationWarning: textsize is deprecated and will be removed in Pillow 10 (2023-07-01). Use textbbox or textlength instead.\n",
      "  text_width, text_height = draw.textsize(loc[\"name\"], font=font)\n",
      "C:\\Users\\Ganki\\AppData\\Local\\Temp\\ipykernel_29424\\2280655334.py:29: DeprecationWarning: textsize is deprecated and will be removed in Pillow 10 (2023-07-01). Use textbbox or textlength instead.\n",
      "  text_width, text_height = draw.textsize(loc[\"name\"], font=font)\n"
     ]
    },
    {
     "data": {
      "image/png": "[encoded data removed]",
      "text/plain": [
       "<PIL.Image.Image image mode=RGBA size=512x512>"
      ]
     },
     "execution_count": 2,
     "metadata": {},
     "output_type": "execute_result"
    }
   ],
   "source": [
    "from PIL import Image, ImageDraw, ImageFont\n",
    "import random\n",
    "\n",
    "# 创建一个空白图像\n",
    "image_width = 512\n",
    "image_height = 512\n",
    "image = Image.new(\"RGBA\", (image_width, image_height), (255, 255, 255, 0))\n",
    "draw = ImageDraw.Draw(image)\n",
    "\n",
    "# 框的位置和属性\n",
    "locations = [\n",
    "    {\"coords\": [0.0, 0.09, 0.33, 0.76],  \"name\": \"chair\"},\n",
    "    {\"coords\": [0.55, 0.11, 1.0, 0.8], \"name\": \"table\"}\n",
    "]\n",
    "\n",
    "# 绘制每个框\n",
    "for loc in locations:\n",
    "    colour = (random.randint(0, 255),random.randint(0, 255),random.randint(0, 255))\n",
    "    left = loc[\"coords\"][0] * image_width\n",
    "    top = loc[\"coords\"][1] * image_height\n",
    "    right = loc[\"coords\"][2] * image_width\n",
    "    bottom = loc[\"coords\"][3] * image_height\n",
    "    draw.rectangle([left, top, right, bottom], outline=colour, width=3)\n",
    "    \n",
    "    # 添加框名称\n",
    "    text_x = (left + right) / 2\n",
    "    text_y = (top + bottom) / 2\n",
    "    font = ImageFont.load_default()\n",
    "    text_width, text_height = draw.textsize(loc[\"name\"], font=font)\n",
    "    draw.text((text_x - text_width / 2, text_y - text_height / 2), loc[\"name\"], fill=colour, font=font)\n",
    "\n",
    "# 在整个图像周围添加一个框\n",
    "draw.rectangle([0, 0, image_width, image_height], outline=\"black\", width=5)\n",
    "    \n",
    "image"
   ]
  },
  {
   "cell_type": "code",
   "execution_count": 1,
   "id": "f548cd41",
   "metadata": {},
   "outputs": [],
   "source": [
    "import json\n",
    "import random\n",
    "with open('training_data.json', 'r') as f:\n",
    "    all_image = json.load(f)"
   ]
  },
  {
   "cell_type": "code",
   "execution_count": 2,
   "id": "364ec0f1",
   "metadata": {},
   "outputs": [
    {
     "name": "stdout",
     "output_type": "stream",
     "text": [
      "livingroom,sofa,windows,small table,bouquet,armchair,candles,painting,magazine,ottoman,plant,ceiling,pillow\n",
      "['sofa', 'windows', 'windows', 'small table']\n",
      "[[0.48828125, 0.484375, 0.86328125, 0.80859375], [0.5625, 0.10546875, 0.90625, 0.6484375], [0.0625, 0.140625, 0.48046875, 0.609375], [0.2734375, 0.73046875, 0.81640625, 0.99609375]]\n"
     ]
    },
    {
     "data": {
      "image/png": "[encoded data removed]",
      "text/plain": [
       "<PIL.Image.Image image mode=RGBA size=512x512>"
      ]
     },
     "execution_count": 2,
     "metadata": {},
     "output_type": "execute_result"
    }
   ],
   "source": [
    "import base64\n",
    "from io import BytesIO\n",
    "from PIL import Image\n",
    "import warnings\n",
    "warnings.filterwarnings(\"ignore\", category=DeprecationWarning, message=\"textsize is deprecated and will be removed in Pillow 10\")\n",
    "\n",
    "\n",
    "rn = random.randint(0, len(all_image)-1)\n",
    "number_obj = random.randint(2, 6)\n",
    "\n",
    "\n",
    "image_data = base64.b64decode(all_image[rn][\"image\"])\n",
    "image = Image.open(BytesIO(image_data))\n",
    "image.size\n",
    "caption = all_image[rn][\"caption\"]\n",
    "\n",
    "\n",
    "\n",
    "\n",
    "locations = []\n",
    "for i in range(min(len(all_image[rn][\"annos\"]),number_obj)):\n",
    "    if (len(locations) + len(all_image[rn][\"annos\"]) - i) < number_obj:\n",
    "        print(i + number_obj)\n",
    "        print(len(all_image[rn][\"annos\"]))\n",
    "        if random.random() < 0.7:\n",
    "            print(random.random())\n",
    "            continue\n",
    "    bbox = {}\n",
    "    box = all_image[rn][\"annos\"][i][\"bbox\"]\n",
    "    norm_box = [box[0]/image.size[0], box[1]/image.size[1], (box[2]+box[0])/image.size[0], (box[1]+box[3])/image.size[0]]\n",
    "    token_pos = all_image[rn][\"annos\"][i][\"tokens_positive\"][0]\n",
    "    obj = all_image[rn][\"caption\"][token_pos[0]:token_pos[1]]\n",
    "    bbox[\"name\"] = obj\n",
    "    bbox[\"coords\"] = norm_box\n",
    "    locations.append(bbox)\n",
    "\n",
    "    \n",
    "    \n",
    "print(caption)\n",
    "print([c[\"name\"] for c in locations])\n",
    "print([c[\"coords\"] for c in locations])\n",
    "\n",
    "from PIL import Image, ImageDraw, ImageFont\n",
    "import random\n",
    "\n",
    "# 创建一个空白图像\n",
    "image_width = 512\n",
    "image_height = 512\n",
    "image = Image.new(\"RGBA\", (image_width, image_height), (255, 255, 255, 0))\n",
    "draw = ImageDraw.Draw(image)\n",
    "\n",
    "# 绘制每个框\n",
    "for loc in locations:\n",
    "    colour = (random.randint(0, 255),random.randint(0, 255),random.randint(0, 255))\n",
    "    left = loc[\"coords\"][0] * image_width\n",
    "    top = loc[\"coords\"][1] * image_height\n",
    "    right = loc[\"coords\"][2] * image_width\n",
    "    bottom = loc[\"coords\"][3] * image_height\n",
    "    draw.rectangle([left, top, right, bottom], outline=colour, width=3)\n",
    "    \n",
    "    # 添加框名称\n",
    "    text_x = (left + right) / 2\n",
    "    text_y = (top + bottom) / 2\n",
    "    font = ImageFont.load_default()\n",
    "    text_width, text_height = draw.textsize(loc[\"name\"], font=font)\n",
    "    draw.text((text_x - text_width / 2, text_y - text_height / 2), loc[\"name\"], fill=colour, font=font)\n",
    "\n",
    "# 在整个图像周围添加一个框\n",
    "draw.rectangle([0, 0, image_width, image_height], outline=\"black\", width=5)\n",
    "    \n",
    "image\n",
    "    "
   ]
  },
  {
   "cell_type": "code",
   "execution_count": null,
   "id": "b27a7fe7",
   "metadata": {},
   "outputs": [],
   "source": []
  }
 ],
 "metadata": {
  "kernelspec": {
   "display_name": "DL",
   "language": "python",
   "name": "dl"
  },
  "language_info": {
   "codemirror_mode": {
    "name": "ipython",
    "version": 3
   },
   "file_extension": ".py",
   "mimetype": "text/x-python",
   "name": "python",
   "nbconvert_exporter": "python",
   "pygments_lexer": "ipython3",
   "version": "3.9.17"
  }
 },
 "nbformat": 4,
 "nbformat_minor": 5
}
